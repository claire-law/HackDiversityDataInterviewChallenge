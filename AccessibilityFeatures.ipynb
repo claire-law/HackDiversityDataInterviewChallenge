{
 "cells": [
  {
   "cell_type": "code",
   "execution_count": 20,
   "id": "ee0c6164",
   "metadata": {},
   "outputs": [],
   "source": [
    "import pandas as pd\n",
    "import numpy as np\n",
    "import matplotlib.pyplot as plt\n",
    "import seaborn as sns"
   ]
  },
  {
   "cell_type": "markdown",
   "id": "0c37150d",
   "metadata": {},
   "source": [
    "# Retrieve and Inspect the Dataset"
   ]
  },
  {
   "cell_type": "code",
   "execution_count": 2,
   "id": "86dbe5cd",
   "metadata": {},
   "outputs": [
    {
     "data": {
      "text/html": [
       "<div>\n",
       "<style scoped>\n",
       "    .dataframe tbody tr th:only-of-type {\n",
       "        vertical-align: middle;\n",
       "    }\n",
       "\n",
       "    .dataframe tbody tr th {\n",
       "        vertical-align: top;\n",
       "    }\n",
       "\n",
       "    .dataframe thead th {\n",
       "        text-align: right;\n",
       "    }\n",
       "</style>\n",
       "<table border=\"1\" class=\"dataframe\">\n",
       "  <thead>\n",
       "    <tr style=\"text-align: right;\">\n",
       "      <th></th>\n",
       "      <th>user_id</th>\n",
       "      <th>feature_used</th>\n",
       "      <th>session_duration</th>\n",
       "      <th>engagement_score</th>\n",
       "      <th>accessibility_settings</th>\n",
       "      <th>age_group</th>\n",
       "      <th>gender</th>\n",
       "      <th>additional_attributes</th>\n",
       "    </tr>\n",
       "  </thead>\n",
       "  <tbody>\n",
       "    <tr>\n",
       "      <th>0</th>\n",
       "      <td>user_4737</td>\n",
       "      <td>Multilingual</td>\n",
       "      <td>60.77</td>\n",
       "      <td>4</td>\n",
       "      <td>4</td>\n",
       "      <td>Teenager</td>\n",
       "      <td>NaN</td>\n",
       "      <td>LGBTQ+</td>\n",
       "    </tr>\n",
       "    <tr>\n",
       "      <th>1</th>\n",
       "      <td>user_1492</td>\n",
       "      <td>Text-to-Speech</td>\n",
       "      <td>20.20</td>\n",
       "      <td>5</td>\n",
       "      <td>4</td>\n",
       "      <td>Professional</td>\n",
       "      <td>Non-Binary</td>\n",
       "      <td>NaN</td>\n",
       "    </tr>\n",
       "    <tr>\n",
       "      <th>2</th>\n",
       "      <td>user_5936</td>\n",
       "      <td>Colorblind Mode</td>\n",
       "      <td>93.78</td>\n",
       "      <td>2</td>\n",
       "      <td>2</td>\n",
       "      <td>Adult</td>\n",
       "      <td>Female</td>\n",
       "      <td>NaN</td>\n",
       "    </tr>\n",
       "    <tr>\n",
       "      <th>3</th>\n",
       "      <td>user_5519</td>\n",
       "      <td>Colorblind Mode</td>\n",
       "      <td>26.36</td>\n",
       "      <td>3</td>\n",
       "      <td>1</td>\n",
       "      <td>Adult</td>\n",
       "      <td>NaN</td>\n",
       "      <td>LGBTQ+</td>\n",
       "    </tr>\n",
       "    <tr>\n",
       "      <th>4</th>\n",
       "      <td>user_1853</td>\n",
       "      <td>High Contrast Mode</td>\n",
       "      <td>91.67</td>\n",
       "      <td>5</td>\n",
       "      <td>1</td>\n",
       "      <td>Young Adult</td>\n",
       "      <td>Male</td>\n",
       "      <td>NaN</td>\n",
       "    </tr>\n",
       "  </tbody>\n",
       "</table>\n",
       "</div>"
      ],
      "text/plain": [
       "     user_id        feature_used  session_duration  engagement_score  \\\n",
       "0  user_4737        Multilingual             60.77                 4   \n",
       "1  user_1492      Text-to-Speech             20.20                 5   \n",
       "2  user_5936     Colorblind Mode             93.78                 2   \n",
       "3  user_5519     Colorblind Mode             26.36                 3   \n",
       "4  user_1853  High Contrast Mode             91.67                 5   \n",
       "\n",
       "   accessibility_settings     age_group      gender additional_attributes  \n",
       "0                       4      Teenager         NaN                LGBTQ+  \n",
       "1                       4  Professional  Non-Binary                   NaN  \n",
       "2                       2         Adult      Female                   NaN  \n",
       "3                       1         Adult         NaN                LGBTQ+  \n",
       "4                       1   Young Adult        Male                   NaN  "
      ]
     },
     "execution_count": 2,
     "metadata": {},
     "output_type": "execute_result"
    }
   ],
   "source": [
    "data = pd.read_excel('inclusive_features_usage.xlsx')\n",
    "data.head()"
   ]
  },
  {
   "cell_type": "code",
   "execution_count": 3,
   "id": "6f36adb5",
   "metadata": {
    "cell_style": "split"
   },
   "outputs": [
    {
     "data": {
      "text/plain": [
       "user_id                    object\n",
       "feature_used               object\n",
       "session_duration          float64\n",
       "engagement_score            int64\n",
       "accessibility_settings      int64\n",
       "age_group                  object\n",
       "gender                     object\n",
       "additional_attributes      object\n",
       "dtype: object"
      ]
     },
     "execution_count": 3,
     "metadata": {},
     "output_type": "execute_result"
    }
   ],
   "source": [
    "data.dtypes"
   ]
  },
  {
   "cell_type": "code",
   "execution_count": 4,
   "id": "29292399",
   "metadata": {
    "cell_style": "split"
   },
   "outputs": [
    {
     "data": {
      "text/html": [
       "<div>\n",
       "<style scoped>\n",
       "    .dataframe tbody tr th:only-of-type {\n",
       "        vertical-align: middle;\n",
       "    }\n",
       "\n",
       "    .dataframe tbody tr th {\n",
       "        vertical-align: top;\n",
       "    }\n",
       "\n",
       "    .dataframe thead th {\n",
       "        text-align: right;\n",
       "    }\n",
       "</style>\n",
       "<table border=\"1\" class=\"dataframe\">\n",
       "  <thead>\n",
       "    <tr style=\"text-align: right;\">\n",
       "      <th></th>\n",
       "      <th>session_duration</th>\n",
       "      <th>engagement_score</th>\n",
       "      <th>accessibility_settings</th>\n",
       "    </tr>\n",
       "  </thead>\n",
       "  <tbody>\n",
       "    <tr>\n",
       "      <th>count</th>\n",
       "      <td>10000.000000</td>\n",
       "      <td>10000.00000</td>\n",
       "      <td>10000.000000</td>\n",
       "    </tr>\n",
       "    <tr>\n",
       "      <th>mean</th>\n",
       "      <td>62.443799</td>\n",
       "      <td>3.04360</td>\n",
       "      <td>2.489600</td>\n",
       "    </tr>\n",
       "    <tr>\n",
       "      <th>std</th>\n",
       "      <td>33.522672</td>\n",
       "      <td>1.41778</td>\n",
       "      <td>1.707332</td>\n",
       "    </tr>\n",
       "    <tr>\n",
       "      <th>min</th>\n",
       "      <td>5.010000</td>\n",
       "      <td>1.00000</td>\n",
       "      <td>0.000000</td>\n",
       "    </tr>\n",
       "    <tr>\n",
       "      <th>25%</th>\n",
       "      <td>33.070000</td>\n",
       "      <td>2.00000</td>\n",
       "      <td>1.000000</td>\n",
       "    </tr>\n",
       "    <tr>\n",
       "      <th>50%</th>\n",
       "      <td>63.175000</td>\n",
       "      <td>3.00000</td>\n",
       "      <td>2.000000</td>\n",
       "    </tr>\n",
       "    <tr>\n",
       "      <th>75%</th>\n",
       "      <td>91.600000</td>\n",
       "      <td>4.00000</td>\n",
       "      <td>4.000000</td>\n",
       "    </tr>\n",
       "    <tr>\n",
       "      <th>max</th>\n",
       "      <td>120.000000</td>\n",
       "      <td>5.00000</td>\n",
       "      <td>5.000000</td>\n",
       "    </tr>\n",
       "  </tbody>\n",
       "</table>\n",
       "</div>"
      ],
      "text/plain": [
       "       session_duration  engagement_score  accessibility_settings\n",
       "count      10000.000000       10000.00000            10000.000000\n",
       "mean          62.443799           3.04360                2.489600\n",
       "std           33.522672           1.41778                1.707332\n",
       "min            5.010000           1.00000                0.000000\n",
       "25%           33.070000           2.00000                1.000000\n",
       "50%           63.175000           3.00000                2.000000\n",
       "75%           91.600000           4.00000                4.000000\n",
       "max          120.000000           5.00000                5.000000"
      ]
     },
     "execution_count": 4,
     "metadata": {},
     "output_type": "execute_result"
    }
   ],
   "source": [
    "data.describe()"
   ]
  },
  {
   "cell_type": "markdown",
   "id": "cf297782",
   "metadata": {},
   "source": [
    "# Data Cleaning and Preparation"
   ]
  },
  {
   "cell_type": "markdown",
   "id": "885dcb45",
   "metadata": {},
   "source": [
    "## Missing Values: "
   ]
  },
  {
   "cell_type": "code",
   "execution_count": 7,
   "id": "f769eb0c",
   "metadata": {
    "scrolled": true
   },
   "outputs": [
    {
     "name": "stdout",
     "output_type": "stream",
     "text": [
      "There are 0 missing values in the column user_id.\n",
      "There are 0 missing values in the column feature_used.\n",
      "There are 0 missing values in the column session_duration.\n",
      "There are 0 missing values in the column engagement_score.\n",
      "There are 0 missing values in the column accessibility_settings.\n",
      "There are 0 missing values in the column age_group.\n",
      "There are 3997 missing values in the column gender.\n",
      "There are 6003 missing values in the column additional_attributes.\n"
     ]
    }
   ],
   "source": [
    "for x in data.columns:\n",
    "    print(f'There are {data[x].isna().sum()} missing values in the column {x}.')"
   ]
  },
  {
   "cell_type": "markdown",
   "id": "a4f38d33",
   "metadata": {},
   "source": [
    "I decided to fill the missing values in both `gender` and `additional_attributes` with an `\"Unknown\"` string. Dropping rows with missing values would not be feasible, since a sizable percentage of the records in the dataset have a missing value in either column. Also, filling the missing values with a `\"0\"` string can be confusing (for gender, 0 could be interpreted as none of the above, or something else). Thus, `'Unknown'` provides the best context, while also allowing for easy computation of the `'Intersectionality'` column below. "
   ]
  },
  {
   "cell_type": "code",
   "execution_count": 8,
   "id": "dbbd12ed",
   "metadata": {},
   "outputs": [],
   "source": [
    "data['gender'] = data['gender'].fillna('Unknown').astype('object')\n",
    "data['additional_attributes'] = data['additional_attributes'].fillna('Unknown').astype('object')"
   ]
  },
  {
   "cell_type": "markdown",
   "id": "ca2f19b1",
   "metadata": {},
   "source": [
    "## Outliers"
   ]
  },
  {
   "cell_type": "markdown",
   "id": "02e3a918",
   "metadata": {},
   "source": [
    "For session duration, there are no points that lie further than 1.5 times the IQR from the median. Also, there are also no points that lie outside a z-score of 2 from the mean. However, the histogram shows some variation in the frequency of the scores (in bins of 20). Still, there do not appear to be any outliers. \n"
   ]
  },
  {
   "cell_type": "code",
   "execution_count": 9,
   "id": "4d8a14e3",
   "metadata": {
    "cell_style": "split"
   },
   "outputs": [
    {
     "data": {
      "text/html": [
       "<div>\n",
       "<style scoped>\n",
       "    .dataframe tbody tr th:only-of-type {\n",
       "        vertical-align: middle;\n",
       "    }\n",
       "\n",
       "    .dataframe tbody tr th {\n",
       "        vertical-align: top;\n",
       "    }\n",
       "\n",
       "    .dataframe thead th {\n",
       "        text-align: right;\n",
       "    }\n",
       "</style>\n",
       "<table border=\"1\" class=\"dataframe\">\n",
       "  <thead>\n",
       "    <tr style=\"text-align: right;\">\n",
       "      <th></th>\n",
       "      <th>user_id</th>\n",
       "      <th>feature_used</th>\n",
       "      <th>session_duration</th>\n",
       "      <th>engagement_score</th>\n",
       "      <th>accessibility_settings</th>\n",
       "      <th>age_group</th>\n",
       "      <th>gender</th>\n",
       "      <th>additional_attributes</th>\n",
       "    </tr>\n",
       "  </thead>\n",
       "  <tbody>\n",
       "  </tbody>\n",
       "</table>\n",
       "</div>"
      ],
      "text/plain": [
       "Empty DataFrame\n",
       "Columns: [user_id, feature_used, session_duration, engagement_score, accessibility_settings, age_group, gender, additional_attributes]\n",
       "Index: []"
      ]
     },
     "execution_count": 9,
     "metadata": {},
     "output_type": "execute_result"
    }
   ],
   "source": [
    "q1 = data['session_duration'].quantile(.25)\n",
    "q3 = data['session_duration'].quantile(.75)\n",
    "iqr = q3 - q1\n",
    "low_bound = q1 - (iqr*1.5)\n",
    "up_bound = q3 + (iqr*1.5)\n",
    "data[(data['session_duration']<low_bound) | (data['session_duration']>up_bound)]"
   ]
  },
  {
   "cell_type": "code",
   "execution_count": 10,
   "id": "bc759685",
   "metadata": {
    "cell_style": "split"
   },
   "outputs": [
    {
     "data": {
      "text/html": [
       "<div>\n",
       "<style scoped>\n",
       "    .dataframe tbody tr th:only-of-type {\n",
       "        vertical-align: middle;\n",
       "    }\n",
       "\n",
       "    .dataframe tbody tr th {\n",
       "        vertical-align: top;\n",
       "    }\n",
       "\n",
       "    .dataframe thead th {\n",
       "        text-align: right;\n",
       "    }\n",
       "</style>\n",
       "<table border=\"1\" class=\"dataframe\">\n",
       "  <thead>\n",
       "    <tr style=\"text-align: right;\">\n",
       "      <th></th>\n",
       "      <th>user_id</th>\n",
       "      <th>feature_used</th>\n",
       "      <th>session_duration</th>\n",
       "      <th>engagement_score</th>\n",
       "      <th>accessibility_settings</th>\n",
       "      <th>age_group</th>\n",
       "      <th>gender</th>\n",
       "      <th>additional_attributes</th>\n",
       "      <th>z-score</th>\n",
       "    </tr>\n",
       "  </thead>\n",
       "  <tbody>\n",
       "  </tbody>\n",
       "</table>\n",
       "</div>"
      ],
      "text/plain": [
       "Empty DataFrame\n",
       "Columns: [user_id, feature_used, session_duration, engagement_score, accessibility_settings, age_group, gender, additional_attributes, z-score]\n",
       "Index: []"
      ]
     },
     "execution_count": 10,
     "metadata": {},
     "output_type": "execute_result"
    }
   ],
   "source": [
    "# method 2: z-score\n",
    "mean = data['session_duration'].mean()\n",
    "std = data['session_duration'].std()\n",
    "data['z-score']=(data['session_duration']-mean)/std\n",
    "data[(data['z-score']<-2) | (data['z-score']>2)]"
   ]
  },
  {
   "cell_type": "code",
   "execution_count": 19,
   "id": "7eded6cd",
   "metadata": {},
   "outputs": [
    {
     "data": {
      "image/png": "[encoded data removed]",
      "text/plain": [
       "<Figure size 640x480 with 1 Axes>"
      ]
     },
     "metadata": {},
     "output_type": "display_data"
    }
   ],
   "source": [
    "plt.hist(data['session_duration'], bins=20, color='skyblue', edgecolor='black')\n",
    "plt.xlabel('session_duration')\n",
    "plt.ylabel('Frequency')\n",
    "plt.title('Frequency of Session Duration')\n",
    "plt.show()"
   ]
  },
  {
   "cell_type": "markdown",
   "id": "394e869b",
   "metadata": {},
   "source": [
    "There do not appear to be outliers in engagement scores. The histogram shows that the frequency of each score is pretty even across the board. There are no points that lie further than 1.5 times the IQR from the median. There are also no points that lie outside a z-score of 2 from the mean. "
   ]
  },
  {
   "cell_type": "code",
   "execution_count": 12,
   "id": "78c69a62",
   "metadata": {
    "cell_style": "split",
    "scrolled": true
   },
   "outputs": [
    {
     "data": {
      "text/html": [
       "<div>\n",
       "<style scoped>\n",
       "    .dataframe tbody tr th:only-of-type {\n",
       "        vertical-align: middle;\n",
       "    }\n",
       "\n",
       "    .dataframe tbody tr th {\n",
       "        vertical-align: top;\n",
       "    }\n",
       "\n",
       "    .dataframe thead th {\n",
       "        text-align: right;\n",
       "    }\n",
       "</style>\n",
       "<table border=\"1\" class=\"dataframe\">\n",
       "  <thead>\n",
       "    <tr style=\"text-align: right;\">\n",
       "      <th></th>\n",
       "      <th>user_id</th>\n",
       "      <th>feature_used</th>\n",
       "      <th>session_duration</th>\n",
       "      <th>engagement_score</th>\n",
       "      <th>accessibility_settings</th>\n",
       "      <th>age_group</th>\n",
       "      <th>gender</th>\n",
       "      <th>additional_attributes</th>\n",
       "      <th>z-score</th>\n",
       "    </tr>\n",
       "  </thead>\n",
       "  <tbody>\n",
       "  </tbody>\n",
       "</table>\n",
       "</div>"
      ],
      "text/plain": [
       "Empty DataFrame\n",
       "Columns: [user_id, feature_used, session_duration, engagement_score, accessibility_settings, age_group, gender, additional_attributes, z-score]\n",
       "Index: []"
      ]
     },
     "execution_count": 12,
     "metadata": {},
     "output_type": "execute_result"
    }
   ],
   "source": [
    "# method 1: IQR\n",
    "q1 = data['engagement_score'].quantile(.25)\n",
    "q3 = data['engagement_score'].quantile(.75)\n",
    "iqr = q3 - q1\n",
    "low_bound = q1 - (iqr*1.5)\n",
    "up_bound = q3 + (iqr*1.5)\n",
    "data[(data['engagement_score']<low_bound) | (data['engagement_score']>up_bound)]"
   ]
  },
  {
   "cell_type": "code",
   "execution_count": 13,
   "id": "169123d0",
   "metadata": {
    "cell_style": "split"
   },
   "outputs": [
    {
     "data": {
      "text/html": [
       "<div>\n",
       "<style scoped>\n",
       "    .dataframe tbody tr th:only-of-type {\n",
       "        vertical-align: middle;\n",
       "    }\n",
       "\n",
       "    .dataframe tbody tr th {\n",
       "        vertical-align: top;\n",
       "    }\n",
       "\n",
       "    .dataframe thead th {\n",
       "        text-align: right;\n",
       "    }\n",
       "</style>\n",
       "<table border=\"1\" class=\"dataframe\">\n",
       "  <thead>\n",
       "    <tr style=\"text-align: right;\">\n",
       "      <th></th>\n",
       "      <th>user_id</th>\n",
       "      <th>feature_used</th>\n",
       "      <th>session_duration</th>\n",
       "      <th>engagement_score</th>\n",
       "      <th>accessibility_settings</th>\n",
       "      <th>age_group</th>\n",
       "      <th>gender</th>\n",
       "      <th>additional_attributes</th>\n",
       "      <th>z-score</th>\n",
       "    </tr>\n",
       "  </thead>\n",
       "  <tbody>\n",
       "  </tbody>\n",
       "</table>\n",
       "</div>"
      ],
      "text/plain": [
       "Empty DataFrame\n",
       "Columns: [user_id, feature_used, session_duration, engagement_score, accessibility_settings, age_group, gender, additional_attributes, z-score]\n",
       "Index: []"
      ]
     },
     "execution_count": 13,
     "metadata": {},
     "output_type": "execute_result"
    }
   ],
   "source": [
    "# method 2: z-score\n",
    "mean = data['engagement_score'].mean()\n",
    "std = data['engagement_score'].std()\n",
    "data['z-score']=(data['engagement_score']-mean)/std\n",
    "data[(data['z-score']<-2) | (data['z-score']>2)]"
   ]
  },
  {
   "cell_type": "code",
   "execution_count": 14,
   "id": "2e938e9e",
   "metadata": {},
   "outputs": [
    {
     "data": {
      "image/png": "[encoded data removed]",
      "text/plain": [
       "<Figure size 640x480 with 1 Axes>"
      ]
     },
     "metadata": {},
     "output_type": "display_data"
    }
   ],
   "source": [
    "plt.hist(data['engagement_score'], bins=5, color='skyblue', edgecolor='black')\n",
    "plt.xlabel('engagement_score')\n",
    "plt.ylabel('Frequency')\n",
    "plt.title('Frequency of Engagement Scores')\n",
    "plt.show()"
   ]
  },
  {
   "cell_type": "markdown",
   "id": "69c8962a",
   "metadata": {},
   "source": [
    "## High Accessibility User Classification: \n",
    "Explain your choice and its implications for model interpretability."
   ]
  },
  {
   "cell_type": "code",
   "execution_count": 15,
   "id": "51024ec6",
   "metadata": {},
   "outputs": [],
   "source": [
    "data['high_accessibility_user'] = [1 if x>=3 else 0 for x in data['accessibility_settings']]"
   ]
  },
  {
   "cell_type": "code",
   "execution_count": 16,
   "id": "03874bee",
   "metadata": {
    "scrolled": false
   },
   "outputs": [
    {
     "data": {
      "text/html": [
       "<div>\n",
       "<style scoped>\n",
       "    .dataframe tbody tr th:only-of-type {\n",
       "        vertical-align: middle;\n",
       "    }\n",
       "\n",
       "    .dataframe tbody tr th {\n",
       "        vertical-align: top;\n",
       "    }\n",
       "\n",
       "    .dataframe thead th {\n",
       "        text-align: right;\n",
       "    }\n",
       "</style>\n",
       "<table border=\"1\" class=\"dataframe\">\n",
       "  <thead>\n",
       "    <tr style=\"text-align: right;\">\n",
       "      <th></th>\n",
       "      <th>user_id</th>\n",
       "      <th>feature_used</th>\n",
       "      <th>session_duration</th>\n",
       "      <th>engagement_score</th>\n",
       "      <th>accessibility_settings</th>\n",
       "      <th>age_group</th>\n",
       "      <th>gender</th>\n",
       "      <th>additional_attributes</th>\n",
       "      <th>z-score</th>\n",
       "      <th>high_accessibility_user</th>\n",
       "    </tr>\n",
       "  </thead>\n",
       "  <tbody>\n",
       "    <tr>\n",
       "      <th>0</th>\n",
       "      <td>user_4737</td>\n",
       "      <td>Multilingual</td>\n",
       "      <td>60.77</td>\n",
       "      <td>4</td>\n",
       "      <td>4</td>\n",
       "      <td>Teenager</td>\n",
       "      <td>Unknown</td>\n",
       "      <td>LGBTQ+</td>\n",
       "      <td>0.674576</td>\n",
       "      <td>1</td>\n",
       "    </tr>\n",
       "    <tr>\n",
       "      <th>1</th>\n",
       "      <td>user_1492</td>\n",
       "      <td>Text-to-Speech</td>\n",
       "      <td>20.20</td>\n",
       "      <td>5</td>\n",
       "      <td>4</td>\n",
       "      <td>Professional</td>\n",
       "      <td>Non-Binary</td>\n",
       "      <td>Unknown</td>\n",
       "      <td>1.379904</td>\n",
       "      <td>1</td>\n",
       "    </tr>\n",
       "    <tr>\n",
       "      <th>2</th>\n",
       "      <td>user_5936</td>\n",
       "      <td>Colorblind Mode</td>\n",
       "      <td>93.78</td>\n",
       "      <td>2</td>\n",
       "      <td>2</td>\n",
       "      <td>Adult</td>\n",
       "      <td>Female</td>\n",
       "      <td>Unknown</td>\n",
       "      <td>-0.736080</td>\n",
       "      <td>0</td>\n",
       "    </tr>\n",
       "    <tr>\n",
       "      <th>3</th>\n",
       "      <td>user_5519</td>\n",
       "      <td>Colorblind Mode</td>\n",
       "      <td>26.36</td>\n",
       "      <td>3</td>\n",
       "      <td>1</td>\n",
       "      <td>Adult</td>\n",
       "      <td>Unknown</td>\n",
       "      <td>LGBTQ+</td>\n",
       "      <td>-0.030752</td>\n",
       "      <td>0</td>\n",
       "    </tr>\n",
       "    <tr>\n",
       "      <th>4</th>\n",
       "      <td>user_1853</td>\n",
       "      <td>High Contrast Mode</td>\n",
       "      <td>91.67</td>\n",
       "      <td>5</td>\n",
       "      <td>1</td>\n",
       "      <td>Young Adult</td>\n",
       "      <td>Male</td>\n",
       "      <td>Unknown</td>\n",
       "      <td>1.379904</td>\n",
       "      <td>0</td>\n",
       "    </tr>\n",
       "    <tr>\n",
       "      <th>...</th>\n",
       "      <td>...</td>\n",
       "      <td>...</td>\n",
       "      <td>...</td>\n",
       "      <td>...</td>\n",
       "      <td>...</td>\n",
       "      <td>...</td>\n",
       "      <td>...</td>\n",
       "      <td>...</td>\n",
       "      <td>...</td>\n",
       "      <td>...</td>\n",
       "    </tr>\n",
       "    <tr>\n",
       "      <th>9995</th>\n",
       "      <td>user_667</td>\n",
       "      <td>Visual Aid</td>\n",
       "      <td>110.11</td>\n",
       "      <td>1</td>\n",
       "      <td>5</td>\n",
       "      <td>Adult</td>\n",
       "      <td>Non-Binary</td>\n",
       "      <td>Unknown</td>\n",
       "      <td>-1.441408</td>\n",
       "      <td>1</td>\n",
       "    </tr>\n",
       "    <tr>\n",
       "      <th>9996</th>\n",
       "      <td>user_3554</td>\n",
       "      <td>Visual Aid</td>\n",
       "      <td>22.44</td>\n",
       "      <td>3</td>\n",
       "      <td>2</td>\n",
       "      <td>Professional</td>\n",
       "      <td>Male</td>\n",
       "      <td>Unknown</td>\n",
       "      <td>-0.030752</td>\n",
       "      <td>0</td>\n",
       "    </tr>\n",
       "    <tr>\n",
       "      <th>9997</th>\n",
       "      <td>user_8892</td>\n",
       "      <td>Multilingual</td>\n",
       "      <td>12.91</td>\n",
       "      <td>4</td>\n",
       "      <td>2</td>\n",
       "      <td>Senior</td>\n",
       "      <td>Non-Binary</td>\n",
       "      <td>Unknown</td>\n",
       "      <td>0.674576</td>\n",
       "      <td>0</td>\n",
       "    </tr>\n",
       "    <tr>\n",
       "      <th>9998</th>\n",
       "      <td>user_8014</td>\n",
       "      <td>Multilingual</td>\n",
       "      <td>19.23</td>\n",
       "      <td>3</td>\n",
       "      <td>1</td>\n",
       "      <td>Professional</td>\n",
       "      <td>Unknown</td>\n",
       "      <td>LGBTQ+</td>\n",
       "      <td>-0.030752</td>\n",
       "      <td>0</td>\n",
       "    </tr>\n",
       "    <tr>\n",
       "      <th>9999</th>\n",
       "      <td>user_7722</td>\n",
       "      <td>Text-to-Speech</td>\n",
       "      <td>92.66</td>\n",
       "      <td>2</td>\n",
       "      <td>1</td>\n",
       "      <td>Adult</td>\n",
       "      <td>Female</td>\n",
       "      <td>Unknown</td>\n",
       "      <td>-0.736080</td>\n",
       "      <td>0</td>\n",
       "    </tr>\n",
       "  </tbody>\n",
       "</table>\n",
       "<p>10000 rows × 10 columns</p>\n",
       "</div>"
      ],
      "text/plain": [
       "        user_id        feature_used  session_duration  engagement_score  \\\n",
       "0     user_4737        Multilingual             60.77                 4   \n",
       "1     user_1492      Text-to-Speech             20.20                 5   \n",
       "2     user_5936     Colorblind Mode             93.78                 2   \n",
       "3     user_5519     Colorblind Mode             26.36                 3   \n",
       "4     user_1853  High Contrast Mode             91.67                 5   \n",
       "...         ...                 ...               ...               ...   \n",
       "9995   user_667          Visual Aid            110.11                 1   \n",
       "9996  user_3554          Visual Aid             22.44                 3   \n",
       "9997  user_8892        Multilingual             12.91                 4   \n",
       "9998  user_8014        Multilingual             19.23                 3   \n",
       "9999  user_7722      Text-to-Speech             92.66                 2   \n",
       "\n",
       "      accessibility_settings     age_group      gender additional_attributes  \\\n",
       "0                          4      Teenager     Unknown                LGBTQ+   \n",
       "1                          4  Professional  Non-Binary               Unknown   \n",
       "2                          2         Adult      Female               Unknown   \n",
       "3                          1         Adult     Unknown                LGBTQ+   \n",
       "4                          1   Young Adult        Male               Unknown   \n",
       "...                      ...           ...         ...                   ...   \n",
       "9995                       5         Adult  Non-Binary               Unknown   \n",
       "9996                       2  Professional        Male               Unknown   \n",
       "9997                       2        Senior  Non-Binary               Unknown   \n",
       "9998                       1  Professional     Unknown                LGBTQ+   \n",
       "9999                       1         Adult      Female               Unknown   \n",
       "\n",
       "       z-score  high_accessibility_user  \n",
       "0     0.674576                        1  \n",
       "1     1.379904                        1  \n",
       "2    -0.736080                        0  \n",
       "3    -0.030752                        0  \n",
       "4     1.379904                        0  \n",
       "...        ...                      ...  \n",
       "9995 -1.441408                        1  \n",
       "9996 -0.030752                        0  \n",
       "9997  0.674576                        0  \n",
       "9998 -0.030752                        0  \n",
       "9999 -0.736080                        0  \n",
       "\n",
       "[10000 rows x 10 columns]"
      ]
     },
     "execution_count": 16,
     "metadata": {},
     "output_type": "execute_result"
    }
   ],
   "source": [
    "data"
   ]
  },
  {
   "cell_type": "markdown",
   "id": "2c091b38",
   "metadata": {},
   "source": [
    "## Intersectionality Analysis"
   ]
  },
  {
   "cell_type": "code",
   "execution_count": 17,
   "id": "76131beb",
   "metadata": {},
   "outputs": [],
   "source": [
    "data['Intersectionality']=data['age_group']+' - '+data['gender']+' - '+data['additional_attributes']"
   ]
  },
  {
   "cell_type": "code",
   "execution_count": 18,
   "id": "c8caf1c2",
   "metadata": {
    "scrolled": false
   },
   "outputs": [
    {
     "data": {
      "text/html": [
       "<div>\n",
       "<style scoped>\n",
       "    .dataframe tbody tr th:only-of-type {\n",
       "        vertical-align: middle;\n",
       "    }\n",
       "\n",
       "    .dataframe tbody tr th {\n",
       "        vertical-align: top;\n",
       "    }\n",
       "\n",
       "    .dataframe thead th {\n",
       "        text-align: right;\n",
       "    }\n",
       "</style>\n",
       "<table border=\"1\" class=\"dataframe\">\n",
       "  <thead>\n",
       "    <tr style=\"text-align: right;\">\n",
       "      <th></th>\n",
       "      <th>user_id</th>\n",
       "      <th>feature_used</th>\n",
       "      <th>session_duration</th>\n",
       "      <th>engagement_score</th>\n",
       "      <th>accessibility_settings</th>\n",
       "      <th>age_group</th>\n",
       "      <th>gender</th>\n",
       "      <th>additional_attributes</th>\n",
       "      <th>z-score</th>\n",
       "      <th>high_accessibility_user</th>\n",
       "      <th>Intersectionality</th>\n",
       "    </tr>\n",
       "  </thead>\n",
       "  <tbody>\n",
       "    <tr>\n",
       "      <th>0</th>\n",
       "      <td>user_4737</td>\n",
       "      <td>Multilingual</td>\n",
       "      <td>60.77</td>\n",
       "      <td>4</td>\n",
       "      <td>4</td>\n",
       "      <td>Teenager</td>\n",
       "      <td>Unknown</td>\n",
       "      <td>LGBTQ+</td>\n",
       "      <td>0.674576</td>\n",
       "      <td>1</td>\n",
       "      <td>Teenager - Unknown - LGBTQ+</td>\n",
       "    </tr>\n",
       "    <tr>\n",
       "      <th>1</th>\n",
       "      <td>user_1492</td>\n",
       "      <td>Text-to-Speech</td>\n",
       "      <td>20.20</td>\n",
       "      <td>5</td>\n",
       "      <td>4</td>\n",
       "      <td>Professional</td>\n",
       "      <td>Non-Binary</td>\n",
       "      <td>Unknown</td>\n",
       "      <td>1.379904</td>\n",
       "      <td>1</td>\n",
       "      <td>Professional - Non-Binary - Unknown</td>\n",
       "    </tr>\n",
       "    <tr>\n",
       "      <th>2</th>\n",
       "      <td>user_5936</td>\n",
       "      <td>Colorblind Mode</td>\n",
       "      <td>93.78</td>\n",
       "      <td>2</td>\n",
       "      <td>2</td>\n",
       "      <td>Adult</td>\n",
       "      <td>Female</td>\n",
       "      <td>Unknown</td>\n",
       "      <td>-0.736080</td>\n",
       "      <td>0</td>\n",
       "      <td>Adult - Female - Unknown</td>\n",
       "    </tr>\n",
       "    <tr>\n",
       "      <th>3</th>\n",
       "      <td>user_5519</td>\n",
       "      <td>Colorblind Mode</td>\n",
       "      <td>26.36</td>\n",
       "      <td>3</td>\n",
       "      <td>1</td>\n",
       "      <td>Adult</td>\n",
       "      <td>Unknown</td>\n",
       "      <td>LGBTQ+</td>\n",
       "      <td>-0.030752</td>\n",
       "      <td>0</td>\n",
       "      <td>Adult - Unknown - LGBTQ+</td>\n",
       "    </tr>\n",
       "    <tr>\n",
       "      <th>4</th>\n",
       "      <td>user_1853</td>\n",
       "      <td>High Contrast Mode</td>\n",
       "      <td>91.67</td>\n",
       "      <td>5</td>\n",
       "      <td>1</td>\n",
       "      <td>Young Adult</td>\n",
       "      <td>Male</td>\n",
       "      <td>Unknown</td>\n",
       "      <td>1.379904</td>\n",
       "      <td>0</td>\n",
       "      <td>Young Adult - Male - Unknown</td>\n",
       "    </tr>\n",
       "    <tr>\n",
       "      <th>...</th>\n",
       "      <td>...</td>\n",
       "      <td>...</td>\n",
       "      <td>...</td>\n",
       "      <td>...</td>\n",
       "      <td>...</td>\n",
       "      <td>...</td>\n",
       "      <td>...</td>\n",
       "      <td>...</td>\n",
       "      <td>...</td>\n",
       "      <td>...</td>\n",
       "      <td>...</td>\n",
       "    </tr>\n",
       "    <tr>\n",
       "      <th>9995</th>\n",
       "      <td>user_667</td>\n",
       "      <td>Visual Aid</td>\n",
       "      <td>110.11</td>\n",
       "      <td>1</td>\n",
       "      <td>5</td>\n",
       "      <td>Adult</td>\n",
       "      <td>Non-Binary</td>\n",
       "      <td>Unknown</td>\n",
       "      <td>-1.441408</td>\n",
       "      <td>1</td>\n",
       "      <td>Adult - Non-Binary - Unknown</td>\n",
       "    </tr>\n",
       "    <tr>\n",
       "      <th>9996</th>\n",
       "      <td>user_3554</td>\n",
       "      <td>Visual Aid</td>\n",
       "      <td>22.44</td>\n",
       "      <td>3</td>\n",
       "      <td>2</td>\n",
       "      <td>Professional</td>\n",
       "      <td>Male</td>\n",
       "      <td>Unknown</td>\n",
       "      <td>-0.030752</td>\n",
       "      <td>0</td>\n",
       "      <td>Professional - Male - Unknown</td>\n",
       "    </tr>\n",
       "    <tr>\n",
       "      <th>9997</th>\n",
       "      <td>user_8892</td>\n",
       "      <td>Multilingual</td>\n",
       "      <td>12.91</td>\n",
       "      <td>4</td>\n",
       "      <td>2</td>\n",
       "      <td>Senior</td>\n",
       "      <td>Non-Binary</td>\n",
       "      <td>Unknown</td>\n",
       "      <td>0.674576</td>\n",
       "      <td>0</td>\n",
       "      <td>Senior - Non-Binary - Unknown</td>\n",
       "    </tr>\n",
       "    <tr>\n",
       "      <th>9998</th>\n",
       "      <td>user_8014</td>\n",
       "      <td>Multilingual</td>\n",
       "      <td>19.23</td>\n",
       "      <td>3</td>\n",
       "      <td>1</td>\n",
       "      <td>Professional</td>\n",
       "      <td>Unknown</td>\n",
       "      <td>LGBTQ+</td>\n",
       "      <td>-0.030752</td>\n",
       "      <td>0</td>\n",
       "      <td>Professional - Unknown - LGBTQ+</td>\n",
       "    </tr>\n",
       "    <tr>\n",
       "      <th>9999</th>\n",
       "      <td>user_7722</td>\n",
       "      <td>Text-to-Speech</td>\n",
       "      <td>92.66</td>\n",
       "      <td>2</td>\n",
       "      <td>1</td>\n",
       "      <td>Adult</td>\n",
       "      <td>Female</td>\n",
       "      <td>Unknown</td>\n",
       "      <td>-0.736080</td>\n",
       "      <td>0</td>\n",
       "      <td>Adult - Female - Unknown</td>\n",
       "    </tr>\n",
       "  </tbody>\n",
       "</table>\n",
       "<p>10000 rows × 11 columns</p>\n",
       "</div>"
      ],
      "text/plain": [
       "        user_id        feature_used  session_duration  engagement_score  \\\n",
       "0     user_4737        Multilingual             60.77                 4   \n",
       "1     user_1492      Text-to-Speech             20.20                 5   \n",
       "2     user_5936     Colorblind Mode             93.78                 2   \n",
       "3     user_5519     Colorblind Mode             26.36                 3   \n",
       "4     user_1853  High Contrast Mode             91.67                 5   \n",
       "...         ...                 ...               ...               ...   \n",
       "9995   user_667          Visual Aid            110.11                 1   \n",
       "9996  user_3554          Visual Aid             22.44                 3   \n",
       "9997  user_8892        Multilingual             12.91                 4   \n",
       "9998  user_8014        Multilingual             19.23                 3   \n",
       "9999  user_7722      Text-to-Speech             92.66                 2   \n",
       "\n",
       "      accessibility_settings     age_group      gender additional_attributes  \\\n",
       "0                          4      Teenager     Unknown                LGBTQ+   \n",
       "1                          4  Professional  Non-Binary               Unknown   \n",
       "2                          2         Adult      Female               Unknown   \n",
       "3                          1         Adult     Unknown                LGBTQ+   \n",
       "4                          1   Young Adult        Male               Unknown   \n",
       "...                      ...           ...         ...                   ...   \n",
       "9995                       5         Adult  Non-Binary               Unknown   \n",
       "9996                       2  Professional        Male               Unknown   \n",
       "9997                       2        Senior  Non-Binary               Unknown   \n",
       "9998                       1  Professional     Unknown                LGBTQ+   \n",
       "9999                       1         Adult      Female               Unknown   \n",
       "\n",
       "       z-score  high_accessibility_user                    Intersectionality  \n",
       "0     0.674576                        1          Teenager - Unknown - LGBTQ+  \n",
       "1     1.379904                        1  Professional - Non-Binary - Unknown  \n",
       "2    -0.736080                        0             Adult - Female - Unknown  \n",
       "3    -0.030752                        0             Adult - Unknown - LGBTQ+  \n",
       "4     1.379904                        0         Young Adult - Male - Unknown  \n",
       "...        ...                      ...                                  ...  \n",
       "9995 -1.441408                        1         Adult - Non-Binary - Unknown  \n",
       "9996 -0.030752                        0        Professional - Male - Unknown  \n",
       "9997  0.674576                        0        Senior - Non-Binary - Unknown  \n",
       "9998 -0.030752                        0      Professional - Unknown - LGBTQ+  \n",
       "9999 -0.736080                        0             Adult - Female - Unknown  \n",
       "\n",
       "[10000 rows x 11 columns]"
      ]
     },
     "execution_count": 18,
     "metadata": {},
     "output_type": "execute_result"
    }
   ],
   "source": [
    "data"
   ]
  },
  {
   "cell_type": "markdown",
   "id": "02dc5e0d",
   "metadata": {},
   "source": [
    "# EDA"
   ]
  },
  {
   "cell_type": "markdown",
   "id": "dbff6ea9",
   "metadata": {},
   "source": [
    "## Engagement Score Analysis\n",
    "For the multilingual feature, the demographics with the highest engagement are LGBTQ+ and professionals. For text-to-speech, there isn't much variation between genders and additional attributes, but teenagers, young adults, and professionals have much higher engagement than adults and seniors. Professionals and seniors have the highest engagement for colorblind mode, professionals have the highest engagement for high contrast mode, and teenagers and seniors have the highest engagement for visual aid. "
   ]
  },
  {
   "cell_type": "code",
   "execution_count": 72,
   "id": "e7d8bebd",
   "metadata": {
    "cell_style": "split",
    "scrolled": true
   },
   "outputs": [
    {
     "data": {
      "image/png": "[encoded data removed]",
      "text/plain": [
       "<Figure size 1800x600 with 1 Axes>"
      ]
     },
     "metadata": {},
     "output_type": "display_data"
    }
   ],
   "source": [
    "plt.figure(figsize=(18, 6))  \n",
    "\n",
    "sns.barplot(\n",
    "    data = data, \n",
    "    x = data['feature_used'],\n",
    "    y = data['engagement_score'],\n",
    "    hue = data['age_group'],\n",
    "    ci = None\n",
    ")\n",
    "\n",
    "plt.title(\"Average Engagement Score For Each Feature by Age\")\n",
    "plt.xlabel(\"Feature Used\")\n",
    "plt.ylabel(\"Average Engagement Score\")\n",
    "plt.legend(title='Age Group', bbox_to_anchor=(-.1, 1), loc='upper right')\n",
    "plt.ylim(2.5, 3.5) \n",
    "ax = plt.gca()\n",
    "for p in ax.patches:\n",
    "    x = p.get_x() + p.get_width() / 2\n",
    "    y = p.get_height()\n",
    "    plt.text(x, y, f'{y:.2f}', ha='center', va='bottom')"
   ]
  },
  {
   "cell_type": "code",
   "execution_count": 73,
   "id": "6b48391e",
   "metadata": {
    "cell_style": "split"
   },
   "outputs": [
    {
     "data": {
      "image/png": "[encoded data removed]",
      "text/plain": [
       "<Figure size 1800x600 with 1 Axes>"
      ]
     },
     "metadata": {},
     "output_type": "display_data"
    }
   ],
   "source": [
    "plt.figure(figsize=(18, 6))  \n",
    "\n",
    "sns.barplot(\n",
    "    data = data, \n",
    "    x = data['feature_used'],\n",
    "    y = data['engagement_score'],\n",
    "    hue = data['gender'],\n",
    "    ci = None\n",
    ")\n",
    "\n",
    "plt.title(\"Average Engagement Score For Each Feature by Gender\")\n",
    "plt.xlabel(\"Feature Used\")\n",
    "plt.ylabel(\"Average Engagement Score\")\n",
    "plt.legend(title='Gender', bbox_to_anchor=(-.1, 1), loc='upper right')\n",
    "plt.ylim(2.5, 3.5) \n",
    "ax = plt.gca()\n",
    "for p in ax.patches:\n",
    "    x = p.get_x() + p.get_width() / 2\n",
    "    y = p.get_height()\n",
    "    plt.text(x, y, f'{y:.2f}', ha='center', va='bottom')"
   ]
  },
  {
   "cell_type": "code",
   "execution_count": 74,
   "id": "5c922b84",
   "metadata": {
    "cell_style": "split",
    "scrolled": false
   },
   "outputs": [
    {
     "data": {
      "image/png": "[encoded data removed]",
      "text/plain": [
       "<Figure size 1800x600 with 1 Axes>"
      ]
     },
     "metadata": {},
     "output_type": "display_data"
    }
   ],
   "source": [
    "plt.figure(figsize=(18, 6))  \n",
    "\n",
    "sns.barplot(\n",
    "    data = data, \n",
    "    x = data['feature_used'],\n",
    "    y = data['engagement_score'],\n",
    "    hue = data['additional_attributes'],\n",
    "    ci = None\n",
    ")\n",
    "\n",
    "plt.title(\"Average Engagement Score For Each Feature by Additional Attributes\")\n",
    "plt.xlabel(\"Feature Used\")\n",
    "plt.ylabel(\"Average Engagement Score\")\n",
    "plt.legend(title='Attributes', bbox_to_anchor=(-.1, 1), loc='upper right')\n",
    "plt.ylim(2.5, 3.5) \n",
    "ax = plt.gca()\n",
    "for p in ax.patches:\n",
    "    x = p.get_x() + p.get_width() / 2\n",
    "    y = p.get_height()\n",
    "    plt.text(x, y, f'{y:.2f}', ha='center', va='bottom')"
   ]
  },
  {
   "cell_type": "markdown",
   "id": "90ac2a8b",
   "metadata": {},
   "source": [
    "## Feature Usage by Demographic\n",
    "Examine patterns in feature_used across demographic attributes. Use your new intersectional column to uncover trends that may not appear when demographics are analyzed individually."
   ]
  },
  {
   "cell_type": "code",
   "execution_count": null,
   "id": "ab98db69",
   "metadata": {},
   "outputs": [],
   "source": []
  },
  {
   "cell_type": "markdown",
   "id": "987e87c4",
   "metadata": {},
   "source": [
    "# Feature Engineering and Predictive Modeling"
   ]
  },
  {
   "cell_type": "markdown",
   "id": "16462d61",
   "metadata": {},
   "source": [
    "# Insights and Recommendations"
   ]
  },
  {
   "cell_type": "code",
   "execution_count": null,
   "id": "dd1f6d67",
   "metadata": {},
   "outputs": [],
   "source": []
  }
 ],
 "metadata": {
  "kernelspec": {
   "display_name": "Python 3 (ipykernel)",
   "language": "python",
   "name": "python3"
  },
  "language_info": {
   "codemirror_mode": {
    "name": "ipython",
    "version": 3
   },
   "file_extension": ".py",
   "mimetype": "text/x-python",
   "name": "python",
   "nbconvert_exporter": "python",
   "pygments_lexer": "ipython3",
   "version": "3.9.13"
  }
 },
 "nbformat": 4,
 "nbformat_minor": 5
}
