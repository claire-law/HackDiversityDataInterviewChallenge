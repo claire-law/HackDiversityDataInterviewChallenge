{
 "cells": [
  {
   "cell_type": "code",
   "execution_count": 1,
   "id": "0194bc57",
   "metadata": {},
   "outputs": [],
   "source": [
    "import pandas as pd\n",
    "import numpy as np"
   ]
  },
  {
   "cell_type": "code",
   "execution_count": 2,
   "id": "0d1f6db2",
   "metadata": {},
   "outputs": [],
   "source": [
    "data = pd.read_excel('inclusive_features_usage.xlsx')"
   ]
  },
  {
   "cell_type": "markdown",
   "id": "a6e77787",
   "metadata": {},
   "source": [
    "# Data Cleaning and Preparation"
   ]
  },
  {
   "cell_type": "markdown",
   "id": "c2618585",
   "metadata": {},
   "source": [
    "## Missing Values: "
   ]
  },
  {
   "cell_type": "code",
   "execution_count": 34,
   "id": "36bbfc46",
   "metadata": {
    "scrolled": true
   },
   "outputs": [
    {
     "name": "stdout",
     "output_type": "stream",
     "text": [
      "There are 0 missing values in the column user_id.\n",
      "There are 0 missing values in the column feature_used.\n",
      "There are 0 missing values in the column session_duration.\n",
      "There are 0 missing values in the column engagement_score.\n",
      "There are 0 missing values in the column accessibility_settings.\n",
      "There are 0 missing values in the column age_group.\n",
      "There are 3997 missing values in the column gender.\n",
      "There are 6003 missing values in the column additional_attributes.\n"
     ]
    }
   ],
   "source": [
    "for x in data.columns:\n",
    "    print(f'There are {data[x].isna().sum()} missing values in the column {x}.')"
   ]
  },
  {
   "cell_type": "markdown",
   "id": "5cab4437",
   "metadata": {},
   "source": [
    "## Outliers"
   ]
  },
  {
   "cell_type": "markdown",
   "id": "685c10ed",
   "metadata": {},
   "source": [
    "Detect and manage outliers in session_duration and engagement_score."
   ]
  },
  {
   "cell_type": "markdown",
   "id": "0bae1a16",
   "metadata": {},
   "source": [
    "## High Accessibility User Classification: \n",
    "Explain your choice and its implications for model interpretability."
   ]
  },
  {
   "cell_type": "code",
   "execution_count": 44,
   "id": "252b7e45",
   "metadata": {},
   "outputs": [],
   "source": [
    "data['high_accessibility_user'] = [1 if x>=3 else 0 for x in data['accessibility_settings']]"
   ]
  },
  {
   "cell_type": "code",
   "execution_count": 45,
   "id": "bb0058b0",
   "metadata": {},
   "outputs": [
    {
     "data": {
      "text/html": [
       "<div>\n",
       "<style scoped>\n",
       "    .dataframe tbody tr th:only-of-type {\n",
       "        vertical-align: middle;\n",
       "    }\n",
       "\n",
       "    .dataframe tbody tr th {\n",
       "        vertical-align: top;\n",
       "    }\n",
       "\n",
       "    .dataframe thead th {\n",
       "        text-align: right;\n",
       "    }\n",
       "</style>\n",
       "<table border=\"1\" class=\"dataframe\">\n",
       "  <thead>\n",
       "    <tr style=\"text-align: right;\">\n",
       "      <th></th>\n",
       "      <th>user_id</th>\n",
       "      <th>feature_used</th>\n",
       "      <th>session_duration</th>\n",
       "      <th>engagement_score</th>\n",
       "      <th>accessibility_settings</th>\n",
       "      <th>age_group</th>\n",
       "      <th>gender</th>\n",
       "      <th>additional_attributes</th>\n",
       "      <th>high_accessibility_user</th>\n",
       "    </tr>\n",
       "  </thead>\n",
       "  <tbody>\n",
       "    <tr>\n",
       "      <th>0</th>\n",
       "      <td>user_4737</td>\n",
       "      <td>Multilingual</td>\n",
       "      <td>60.77</td>\n",
       "      <td>4</td>\n",
       "      <td>4</td>\n",
       "      <td>Teenager</td>\n",
       "      <td>NaN</td>\n",
       "      <td>LGBTQ+</td>\n",
       "      <td>1</td>\n",
       "    </tr>\n",
       "    <tr>\n",
       "      <th>1</th>\n",
       "      <td>user_1492</td>\n",
       "      <td>Text-to-Speech</td>\n",
       "      <td>20.20</td>\n",
       "      <td>5</td>\n",
       "      <td>4</td>\n",
       "      <td>Professional</td>\n",
       "      <td>Non-Binary</td>\n",
       "      <td>NaN</td>\n",
       "      <td>1</td>\n",
       "    </tr>\n",
       "    <tr>\n",
       "      <th>2</th>\n",
       "      <td>user_5936</td>\n",
       "      <td>Colorblind Mode</td>\n",
       "      <td>93.78</td>\n",
       "      <td>2</td>\n",
       "      <td>2</td>\n",
       "      <td>Adult</td>\n",
       "      <td>Female</td>\n",
       "      <td>NaN</td>\n",
       "      <td>0</td>\n",
       "    </tr>\n",
       "    <tr>\n",
       "      <th>3</th>\n",
       "      <td>user_5519</td>\n",
       "      <td>Colorblind Mode</td>\n",
       "      <td>26.36</td>\n",
       "      <td>3</td>\n",
       "      <td>1</td>\n",
       "      <td>Adult</td>\n",
       "      <td>NaN</td>\n",
       "      <td>LGBTQ+</td>\n",
       "      <td>0</td>\n",
       "    </tr>\n",
       "    <tr>\n",
       "      <th>4</th>\n",
       "      <td>user_1853</td>\n",
       "      <td>High Contrast Mode</td>\n",
       "      <td>91.67</td>\n",
       "      <td>5</td>\n",
       "      <td>1</td>\n",
       "      <td>Young Adult</td>\n",
       "      <td>Male</td>\n",
       "      <td>NaN</td>\n",
       "      <td>0</td>\n",
       "    </tr>\n",
       "    <tr>\n",
       "      <th>...</th>\n",
       "      <td>...</td>\n",
       "      <td>...</td>\n",
       "      <td>...</td>\n",
       "      <td>...</td>\n",
       "      <td>...</td>\n",
       "      <td>...</td>\n",
       "      <td>...</td>\n",
       "      <td>...</td>\n",
       "      <td>...</td>\n",
       "    </tr>\n",
       "    <tr>\n",
       "      <th>9995</th>\n",
       "      <td>user_667</td>\n",
       "      <td>Visual Aid</td>\n",
       "      <td>110.11</td>\n",
       "      <td>1</td>\n",
       "      <td>5</td>\n",
       "      <td>Adult</td>\n",
       "      <td>Non-Binary</td>\n",
       "      <td>NaN</td>\n",
       "      <td>1</td>\n",
       "    </tr>\n",
       "    <tr>\n",
       "      <th>9996</th>\n",
       "      <td>user_3554</td>\n",
       "      <td>Visual Aid</td>\n",
       "      <td>22.44</td>\n",
       "      <td>3</td>\n",
       "      <td>2</td>\n",
       "      <td>Professional</td>\n",
       "      <td>Male</td>\n",
       "      <td>NaN</td>\n",
       "      <td>0</td>\n",
       "    </tr>\n",
       "    <tr>\n",
       "      <th>9997</th>\n",
       "      <td>user_8892</td>\n",
       "      <td>Multilingual</td>\n",
       "      <td>12.91</td>\n",
       "      <td>4</td>\n",
       "      <td>2</td>\n",
       "      <td>Senior</td>\n",
       "      <td>Non-Binary</td>\n",
       "      <td>NaN</td>\n",
       "      <td>0</td>\n",
       "    </tr>\n",
       "    <tr>\n",
       "      <th>9998</th>\n",
       "      <td>user_8014</td>\n",
       "      <td>Multilingual</td>\n",
       "      <td>19.23</td>\n",
       "      <td>3</td>\n",
       "      <td>1</td>\n",
       "      <td>Professional</td>\n",
       "      <td>NaN</td>\n",
       "      <td>LGBTQ+</td>\n",
       "      <td>0</td>\n",
       "    </tr>\n",
       "    <tr>\n",
       "      <th>9999</th>\n",
       "      <td>user_7722</td>\n",
       "      <td>Text-to-Speech</td>\n",
       "      <td>92.66</td>\n",
       "      <td>2</td>\n",
       "      <td>1</td>\n",
       "      <td>Adult</td>\n",
       "      <td>Female</td>\n",
       "      <td>NaN</td>\n",
       "      <td>0</td>\n",
       "    </tr>\n",
       "  </tbody>\n",
       "</table>\n",
       "<p>10000 rows × 9 columns</p>\n",
       "</div>"
      ],
      "text/plain": [
       "        user_id        feature_used  session_duration  engagement_score  \\\n",
       "0     user_4737        Multilingual             60.77                 4   \n",
       "1     user_1492      Text-to-Speech             20.20                 5   \n",
       "2     user_5936     Colorblind Mode             93.78                 2   \n",
       "3     user_5519     Colorblind Mode             26.36                 3   \n",
       "4     user_1853  High Contrast Mode             91.67                 5   \n",
       "...         ...                 ...               ...               ...   \n",
       "9995   user_667          Visual Aid            110.11                 1   \n",
       "9996  user_3554          Visual Aid             22.44                 3   \n",
       "9997  user_8892        Multilingual             12.91                 4   \n",
       "9998  user_8014        Multilingual             19.23                 3   \n",
       "9999  user_7722      Text-to-Speech             92.66                 2   \n",
       "\n",
       "      accessibility_settings     age_group      gender additional_attributes  \\\n",
       "0                          4      Teenager         NaN                LGBTQ+   \n",
       "1                          4  Professional  Non-Binary                   NaN   \n",
       "2                          2         Adult      Female                   NaN   \n",
       "3                          1         Adult         NaN                LGBTQ+   \n",
       "4                          1   Young Adult        Male                   NaN   \n",
       "...                      ...           ...         ...                   ...   \n",
       "9995                       5         Adult  Non-Binary                   NaN   \n",
       "9996                       2  Professional        Male                   NaN   \n",
       "9997                       2        Senior  Non-Binary                   NaN   \n",
       "9998                       1  Professional         NaN                LGBTQ+   \n",
       "9999                       1         Adult      Female                   NaN   \n",
       "\n",
       "      high_accessibility_user  \n",
       "0                           1  \n",
       "1                           1  \n",
       "2                           0  \n",
       "3                           0  \n",
       "4                           0  \n",
       "...                       ...  \n",
       "9995                        1  \n",
       "9996                        0  \n",
       "9997                        0  \n",
       "9998                        0  \n",
       "9999                        0  \n",
       "\n",
       "[10000 rows x 9 columns]"
      ]
     },
     "execution_count": 45,
     "metadata": {},
     "output_type": "execute_result"
    }
   ],
   "source": [
    "data"
   ]
  },
  {
   "cell_type": "markdown",
   "id": "bfa795f5",
   "metadata": {},
   "source": [
    "## Intersectionality Analysis"
   ]
  },
  {
   "cell_type": "code",
   "execution_count": null,
   "id": "af8aa70a",
   "metadata": {},
   "outputs": [],
   "source": []
  }
 ],
 "metadata": {
  "kernelspec": {
   "display_name": "Python 3 (ipykernel)",
   "language": "python",
   "name": "python3"
  },
  "language_info": {
   "codemirror_mode": {
    "name": "ipython",
    "version": 3
   },
   "file_extension": ".py",
   "mimetype": "text/x-python",
   "name": "python",
   "nbconvert_exporter": "python",
   "pygments_lexer": "ipython3",
   "version": "3.9.13"
  }
 },
 "nbformat": 4,
 "nbformat_minor": 5
}
